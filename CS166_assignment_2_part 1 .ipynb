{
 "cells": [
  {
   "cell_type": "code",
   "execution_count": 3,
   "metadata": {},
   "outputs": [],
   "source": [
    "%matplotlib inline\n",
    "import matplotlib.pyplot as plt\n",
    "import matplotlib as mpl\n",
    "import time\n",
    "import numpy as np \n",
    "import seaborn as sns\n",
    "import plotly.plotly as py\n",
    "import cufflinks as cf\n",
    "import pandas as pd\n",
    "sns.set()"
   ]
  },
  {
   "cell_type": "code",
   "execution_count": 4,
   "metadata": {},
   "outputs": [],
   "source": [
    "# class parameters adapted from code in class session 4.2_preclass\n",
    "class TrafficSimulation:\n",
    "    def __init__(self, length = 100, density = 0.5, v_max = 5, slow_down_prob= 0.5):\n",
    "\n",
    "        self.length = length#length (int) The number of cells in the road. Default: 100.\n",
    "        self.density = density#car_density (float) The fraction of cells that have a car on them  Default: 0.2.\n",
    "             \n",
    "        self.v_max = v_max#max_speed (int) The maximum speed in car cells per update step.Default: 5.\n",
    "        self.slow_down_prob = slow_down_prob#low_down_prob (float) The probability that a car will randomly\n",
    "              #slow down by 1 during an update step. Default: 0.5.\n",
    "    \n",
    "        self.state = [v_max if i <= length*density else -1 for i in range(length)]\n",
    "        np.random.shuffle(self.state)  \n",
    "    def calculate_distance_and_velocity(self):\n",
    "        for i, s in enumerate(self.state):\n",
    "            if s >= 0:\n",
    "                distance = 1\n",
    "                # find distance to next car\n",
    "                while self.state[(i + distance) % self.length] == -1: distance+= 1\n",
    "                \n",
    "                # accelerate if distance to next car greater than velocity. \n",
    "                # If less, slow down to distance-1\n",
    "                self.state[i] = min(self.state[i] + 1, self.v_max) if distance> s + 1 else (distance-1)\n",
    "                \n",
    "                # decrease speed by 1 with probability slow_down_prob \n",
    "                if (self.state[i] > 0 and np.random.random() < self.slow_down_prob): self.state[i] -= 1\n",
    "                   \n",
    "    def update_rule(self):\n",
    "        new_state = [-1] * self.length\n",
    "\n",
    "        for k, v in enumerate(self.state):\n",
    "            if v >= 0: \n",
    "                new_state[(k + v) % self.length] = v\n",
    "        \n",
    "        self.state = new_state\n",
    "        \n",
    "    def run_update_rule_and_calculate_distance_and_velocity(self, n, verbose = False):\n",
    "        for _ in range(n):\n",
    "            self.calculate_distance_and_velocity()\n",
    "            if verbose: \n",
    "                self.display()\n",
    "            self.update_rule()\n",
    "    def display(self):\n",
    "        print(''.join('.' if x == -1 else str(x) for x in self.state))"
   ]
  },
  {
   "cell_type": "code",
   "execution_count": 5,
   "metadata": {
    "scrolled": true
   },
   "outputs": [
    {
     "name": "stdout",
     "output_type": "stream",
     "text": [
      "..5.....4.................4..............................................5..........................\n",
      ".......3....5.................4...............................................5.....................\n",
      "..........3......5................4................................................5................\n",
      ".............4........5...............4.................................................5...........\n",
      ".................5.........4..............5..................................................5......\n",
      "......................5........5...............5..................................................4.\n",
      "..5........................5........5...............4...............................................\n",
      ".......4........................4........4..............4...........................................\n",
      "...........4........................5........5..............5.......................................\n",
      "...............4.........................4........4..............4..................................\n",
      "...................5.........................4........4..............5..............................\n",
      "........................4........................4........5...............4.........................\n",
      "............................5........................5.........5..............5.....................\n",
      ".................................4........................5.........4..............5................\n",
      ".....................................5.........................4........4...............4...........\n",
      "..........................................5........................5........4...............5.......\n",
      "...............................................4........................5.......4................5..\n",
      "..5................................................4.........................5......5...............\n",
      ".......5...............................................4..........................5......5..........\n",
      "............5..............................................4...........................4......5.....\n"
     ]
    }
   ],
   "source": [
    "if __name__ == '__main__':\n",
    "    np.random.seed(20)\n",
    "    traffic = TrafficSimulation(length = 100, density = 0.03, v_max = 5,  slow_down_prob= 0.5)\n",
    "    traffic.run_update_rule_and_calculate_distance_and_velocity(20, verbose = True)"
   ]
  },
  {
   "cell_type": "code",
   "execution_count": 6,
   "metadata": {
    "scrolled": true
   },
   "outputs": [
    {
     "name": "stdout",
     "output_type": "stream",
     "text": [
      ".....4......4.........3...5.....4.....04......5................................2...5.......5........\n",
      ".........4......5........4.....4....0.1....5.......4.............................2......4.......5...\n",
      ".4...........5.......5.......4.....00..1........5......4...........................3........4.......\n",
      ".....5............4.......4......1.00...2............4.....4..........................3.........5...\n",
      ".5........5...........5.......2...001.....3..............4.....4.........................3..........\n",
      "......5........4...........3....1.01.2.......4...............5.....5........................4.......\n",
      "...........4.......4..........1..00.2..2.........4................5.....4.......................5...\n",
      ".4.............4.......4.......0.01...2..2...........5.................3....5.......................\n",
      ".....5.............5.......2...1.1.1....2..3..............5...............4......4..................\n",
      "..........5.............4....2..0.0.2.....3...4................5..............5......4..............\n",
      "...............4............2..01.1...3......4....5.................5..............5.....4..........\n",
      "...................4..........00.1.2.....4.......5.....4.................5..............3....4......\n",
      ".......................4......00..1..3.......5........4....4..................4............3.....5..\n",
      "..5........................1..00...1....4.........5.......4....5..................5...........3.....\n",
      ".......5....................0.00....1.......5..........4......5.....4..................5.........4..\n",
      ".4..........5...............0.01.....1...........5.........4.......3....5...................4.......\n",
      ".....4...........4..........1.0.2.....1...............4........4......3......5..................5...\n",
      ".5.......5...........5.......01...2....1..................5........5.....4........5.................\n",
      "......5.......5...........1..1.2....3...1......................4........3....4.........5............\n",
      "...........4.......5.......1..2..2.....0.2.........................4.......3.....5..........4.......\n"
     ]
    }
   ],
   "source": [
    "if __name__ == '__main__':\n",
    "    np.random.seed(69)\n",
    "    traffic = TrafficSimulation(length = 100, density = 0.1, v_max = 5, slow_down_prob = 0.5)\n",
    "    traffic.run_update_rule_and_calculate_distance_and_velocity(20, verbose = True)"
   ]
  },
  {
   "cell_type": "code",
   "execution_count": 7,
   "metadata": {},
   "outputs": [],
   "source": [
    "class Flow_sim(TrafficSimulation):\n",
    "    def update(self):\n",
    "        new_state =-np.ones(self.length, dtype=int)\n",
    "        \n",
    "        flow_of_car = 0\n",
    "\n",
    "        for i, s in enumerate(self.state):\n",
    "            if s >= 0: \n",
    "                new_state[(i + s) % self.length] = s\n",
    "            if i + s > self.length:\n",
    "                \n",
    "                flow_of_car += 1\n",
    "        \n",
    "        self.state = new_state\n",
    "        \n",
    "        return flow_of_car\n",
    "        \n",
    "    def compile_and_display(self, n, verbose = False):\n",
    "        f = []\n",
    "        for _ in range(n):\n",
    "            self.calculate_distance_and_velocity()\n",
    "            if verbose: \n",
    "                self.display()\n",
    "            f.append(self.update())\n",
    "        return np.mean(f)"
   ]
  },
  {
   "cell_type": "code",
   "execution_count": 8,
   "metadata": {},
   "outputs": [
    {
     "data": {
      "text/plain": [
       "Text(0, 0.5, 'Flow')"
      ]
     },
     "execution_count": 8,
     "metadata": {},
     "output_type": "execute_result"
    },
    {
     "data": {
      "image/png": "[encoded data removed]",
      "text/plain": [
       "<Figure size 864x432 with 1 Axes>"
      ]
     },
     "metadata": {
      "needs_background": "light"
     },
     "output_type": "display_data"
    }
   ],
   "source": [
    "densities = np.arange(0.02, 1, 0.04)#define density with mean 0.02 nad standard deviation 1\n",
    "densities=densities.repeat(100)\n",
    "flow = [Flow_sim(100, s, 5, .2).compile_and_display(n=200) for s in densities]\n",
    "plt.figure(figsize=(12,6))\n",
    "\n",
    "plt.errorbar(np.arange(0.02, 1, 0.04),  np.mean(np.reshape(flow, (-1,100)), axis = 1),\n",
    "             yerr = np.abs(np.mean(np.reshape(flow, (-1,100)), axis = 1) - \n",
    "                           np.percentile(np.reshape(flow, (-1,100)), [2.5,97.5], axis = 1)),\n",
    "            fmt = '-o', capsize = 3, color=\"red\")\n",
    "\n",
    "plt.xlabel('Density[car per site]', fontsize = 14)\n",
    "plt.ylabel('Flow', fontsize = 14)"
   ]
  },
  {
   "cell_type": "code",
   "execution_count": null,
   "metadata": {},
   "outputs": [],
   "source": []
  }
 ],
 "metadata": {
  "kernelspec": {
   "display_name": "Python 3",
   "language": "python",
   "name": "python3"
  },
  "language_info": {
   "codemirror_mode": {
    "name": "ipython",
    "version": 3
   },
   "file_extension": ".py",
   "mimetype": "text/x-python",
   "name": "python",
   "nbconvert_exporter": "python",
   "pygments_lexer": "ipython3",
   "version": "3.7.4"
  }
 },
 "nbformat": 4,
 "nbformat_minor": 2
}
